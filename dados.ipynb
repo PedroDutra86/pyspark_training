{
 "cells": [
  {
   "cell_type": "code",
   "execution_count": 51,
   "metadata": {},
   "outputs": [],
   "source": [
    "from pyspark.sql import SparkSession\n",
    "from pyspark.sql.functions import *\n",
    "from pyspark.sql.types import *\n",
    "import os\n",
    "import sys"
   ]
  },
  {
   "cell_type": "code",
   "execution_count": 52,
   "metadata": {},
   "outputs": [],
   "source": [
    "os.environ['PYSPARK_PYTHON'] = sys.executable\n",
    "os.environ['PYSPARK_DRIVER_PYTHON'] = sys.executable"
   ]
  },
  {
   "cell_type": "markdown",
   "metadata": {},
   "source": [
    "#### Criar sessão PySpark"
   ]
  },
  {
   "cell_type": "code",
   "execution_count": 53,
   "metadata": {},
   "outputs": [],
   "source": [
    "spark = (\n",
    "  SparkSession.builder\n",
    "  .master('local')\n",
    "  .appName('PySpark_01')\n",
    "  .getOrCreate()\n",
    ")"
   ]
  },
  {
   "cell_type": "markdown",
   "metadata": {},
   "source": [
    "#### Criar DF / ler arquivo"
   ]
  },
  {
   "cell_type": "code",
   "execution_count": 54,
   "metadata": {},
   "outputs": [],
   "source": [
    "df = spark.read.csv('./netflix_titles.csv', header=True, inferSchema=True)"
   ]
  },
  {
   "cell_type": "markdown",
   "metadata": {},
   "source": [
    "#### Exibir DF"
   ]
  },
  {
   "cell_type": "code",
   "execution_count": 55,
   "metadata": {},
   "outputs": [
    {
     "name": "stdout",
     "output_type": "stream",
     "text": [
      "+-------+-------+--------------------+---------------+--------------------+-------------+------------------+------------+------+---------+--------------------+--------------------+\n",
      "|show_id|   type|               title|       director|                cast|      country|        date_added|release_year|rating| duration|           listed_in|         description|\n",
      "+-------+-------+--------------------+---------------+--------------------+-------------+------------------+------------+------+---------+--------------------+--------------------+\n",
      "|     s1|  Movie|Dick Johnson Is Dead|Kirsten Johnson|                NULL|United States|September 25, 2021|        2020| PG-13|   90 min|       Documentaries|As her father nea...|\n",
      "|     s2|TV Show|       Blood & Water|           NULL|Ama Qamata, Khosi...| South Africa|September 24, 2021|        2021| TV-MA|2 Seasons|International TV ...|After crossing pa...|\n",
      "|     s3|TV Show|           Ganglands|Julien Leclercq|Sami Bouajila, Tr...|         NULL|September 24, 2021|        2021| TV-MA| 1 Season|Crime TV Shows, I...|To protect his fa...|\n",
      "|     s4|TV Show|Jailbirds New Orl...|           NULL|                NULL|         NULL|September 24, 2021|        2021| TV-MA| 1 Season|Docuseries, Reali...|Feuds, flirtation...|\n",
      "|     s5|TV Show|        Kota Factory|           NULL|Mayur More, Jiten...|        India|September 24, 2021|        2021| TV-MA|2 Seasons|International TV ...|In a city of coac...|\n",
      "+-------+-------+--------------------+---------------+--------------------+-------------+------------------+------------+------+---------+--------------------+--------------------+\n",
      "only showing top 5 rows\n",
      "\n"
     ]
    }
   ],
   "source": [
    "df.show(5)"
   ]
  },
  {
   "cell_type": "markdown",
   "metadata": {},
   "source": [
    "#### Verificar tipos de colunas"
   ]
  },
  {
   "cell_type": "code",
   "execution_count": 56,
   "metadata": {},
   "outputs": [
    {
     "name": "stdout",
     "output_type": "stream",
     "text": [
      "root\n",
      " |-- show_id: string (nullable = true)\n",
      " |-- type: string (nullable = true)\n",
      " |-- title: string (nullable = true)\n",
      " |-- director: string (nullable = true)\n",
      " |-- cast: string (nullable = true)\n",
      " |-- country: string (nullable = true)\n",
      " |-- date_added: string (nullable = true)\n",
      " |-- release_year: string (nullable = true)\n",
      " |-- rating: string (nullable = true)\n",
      " |-- duration: string (nullable = true)\n",
      " |-- listed_in: string (nullable = true)\n",
      " |-- description: string (nullable = true)\n",
      "\n"
     ]
    }
   ],
   "source": [
    "df.printSchema()"
   ]
  },
  {
   "cell_type": "markdown",
   "metadata": {},
   "source": [
    "#### Verificando dados nulos"
   ]
  },
  {
   "cell_type": "code",
   "execution_count": 57,
   "metadata": {},
   "outputs": [
    {
     "name": "stdout",
     "output_type": "stream",
     "text": [
      "show_id 0\n",
      "type 1\n",
      "title 2\n",
      "director 2636\n",
      "cast 826\n",
      "country 832\n",
      "date_added 13\n",
      "release_year 2\n",
      "rating 6\n",
      "duration 5\n",
      "listed_in 3\n",
      "description 3\n"
     ]
    }
   ],
   "source": [
    "for coluna in df.columns:\n",
    "  print(coluna, df.filter(df[coluna].isNull()).count())"
   ]
  },
  {
   "cell_type": "markdown",
   "metadata": {},
   "source": [
    "#### Renomeando Colunas"
   ]
  },
  {
   "cell_type": "code",
   "execution_count": null,
   "metadata": {},
   "outputs": [],
   "source": [
    "portDf = df.withColumnRenamed('show_id', 'id')\\\n",
    ".withColumnRenamed('type', 'tipo')\\\n",
    ".withColumnRenamed('title', 'titulo')\\\n",
    ".withColumnRenamed('director', 'diretor')\\\n",
    ".withColumnRenamed('cast' ,'atores_principais')\\\n",
    ".withColumnRenamed('country', 'pais')\\\n",
    ".withColumnRenamed('date_added', 'data_dicionado')\\\n",
    ".withColumnRenamed('release_year', 'ano_lancamento')\\\n",
    ".withColumnRenamed('rating', 'classificacao')\\\n",
    ".withColumnRenamed('duration', 'duracao')\\\n",
    ".withColumnRenamed('listed_in', 'categoria')\\\n",
    ".withColumnRenamed('description', 'descricao').show(5)"
   ]
  },
  {
   "cell_type": "markdown",
   "metadata": {},
   "source": [
    "#### Selecionar Colunas"
   ]
  },
  {
   "cell_type": "code",
   "execution_count": null,
   "metadata": {},
   "outputs": [],
   "source": [
    "df.select('title', 'description').show(5)"
   ]
  },
  {
   "cell_type": "code",
   "execution_count": null,
   "metadata": {},
   "outputs": [],
   "source": [
    "df.select(col('title'), col('description')).show(5)"
   ]
  },
  {
   "cell_type": "code",
   "execution_count": null,
   "metadata": {},
   "outputs": [],
   "source": [
    "df.select(df['title']).show(5)"
   ]
  },
  {
   "cell_type": "markdown",
   "metadata": {},
   "source": [
    "#### Selecionar Colunas com ALIAS\n",
    "**Pelo primeiro método de select, o alias não funciona por se tratar de uma string**"
   ]
  },
  {
   "cell_type": "code",
   "execution_count": null,
   "metadata": {},
   "outputs": [],
   "source": [
    "df.select(col('title').alias('titulo')).show(5)"
   ]
  },
  {
   "cell_type": "code",
   "execution_count": null,
   "metadata": {},
   "outputs": [],
   "source": [
    "df.select('title director cast'.split()).show(5)"
   ]
  },
  {
   "cell_type": "markdown",
   "metadata": {},
   "source": [
    "#### Organizar Select"
   ]
  },
  {
   "cell_type": "code",
   "execution_count": null,
   "metadata": {},
   "outputs": [],
   "source": [
    "df.select('title', 'type', 'country').show(5)"
   ]
  },
  {
   "cell_type": "markdown",
   "metadata": {},
   "source": [
    "#### Filtrar DF\n",
    "**Se tiver espaços, você deve utilizar a função col no nome da coluna**"
   ]
  },
  {
   "cell_type": "code",
   "execution_count": 87,
   "metadata": {},
   "outputs": [
    {
     "name": "stdout",
     "output_type": "stream",
     "text": [
      "+-------+-------+--------------------+--------------------+--------------------+-------+-----------------+------------+------+--------+--------------------+--------------------+\n",
      "|show_id|   type|               title|            director|                cast|country|       date_added|release_year|rating|duration|           listed_in|         description|\n",
      "+-------+-------+--------------------+--------------------+--------------------+-------+-----------------+------------+------+--------+--------------------+--------------------+\n",
      "|   s303|  Movie|City of God: 10 Y...|Cavi Borges, Luci...|                NULL| Brazil|   August 5, 2021|        2013| TV-MA|  69 min|Documentaries, In...|\"A decade after t...|\n",
      "|   s651|  Movie|O Vendedor de Sonhos|     Jayme Monjardim|César Troncoso, D...| Brazil|    June 22, 2021|        2016| TV-14|  96 min|Dramas, Internati...|A disillusioned p...|\n",
      "|   s784|  Movie|            Carnaval|        Leandro Neri|Giovana Cordeiro,...| Brazil|     June 2, 2021|        2021| TV-MA|  95 min|Comedies, Interna...|After a breakup, ...|\n",
      "|   s967|  Movie|       Get the Grift|       Pedro Antonio|Marcus Majella, S...| Brazil|   April 28, 2021|        2021| TV-MA|  95 min|Comedies, Interna...|After a botched s...|\n",
      "|  s1189|  Movie|        Get the Goat|        Vitor Brandt|Matheus Nachterga...| Brazil|   March 18, 2021|        2021| TV-14|  98 min|Action & Adventur...|Two hapless cops ...|\n",
      "|  s1340|TV Show|      Invisible City|                NULL|Marco Pigossi, Al...| Brazil| February 5, 2021|        2021| TV-MA|1 Season|Crime TV Shows, I...|After a family tr...|\n",
      "|  s1404|  Movie|          Double Dad|        Cris D'Amato|Maisa Silva, Edua...| Brazil| January 15, 2021|        2020|  TV-G| 105 min|Children & Family...|While her mom is ...|\n",
      "|  s1533|TV Show|Anitta: Made In H...|Andrucha Waddingt...|              Anitta| Brazil|December 16, 2020|        2020| TV-MA|1 Season|Docuseries, Inter...|In this intimate ...|\n",
      "|  s1578|  Movie|Emicida: AmarElo ...|                NULL|             Emicida| Brazil| December 8, 2020|        2020| TV-MA|  90 min|Documentaries, In...|Between scenes fr...|\n",
      "|  s1602|  Movie|Just Another Chri...|    Roberto Santucci|Leandro Hassum, E...| Brazil| December 3, 2020|        2020| TV-MA| 101 min|Comedies, Interna...|Stuck in a time l...|\n",
      "+-------+-------+--------------------+--------------------+--------------------+-------+-----------------+------------+------+--------+--------------------+--------------------+\n",
      "only showing top 10 rows\n",
      "\n"
     ]
    }
   ],
   "source": [
    "df.filter('country = \"Brazil\"').show(10)"
   ]
  }
 ],
 "metadata": {
  "kernelspec": {
   "display_name": "venv",
   "language": "python",
   "name": "python3"
  },
  "language_info": {
   "codemirror_mode": {
    "name": "ipython",
    "version": 3
   },
   "file_extension": ".py",
   "mimetype": "text/x-python",
   "name": "python",
   "nbconvert_exporter": "python",
   "pygments_lexer": "ipython3",
   "version": "3.12.6"
  }
 },
 "nbformat": 4,
 "nbformat_minor": 2
}
